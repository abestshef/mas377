{
 "cells": [
  {
   "cell_type": "markdown",
   "id": "bd0a964f",
   "metadata": {},
   "source": [
    "# 3 - Competition continued \n",
    "\n",
    "## Linear stability analysis\n",
    " \n",
    "Beyond this graphical method it would obviously be useful if we can formally characterise these equilibria in some way, and in particular assess when each will be an attracting end-point of the dynamics (the equilibrium is **stable**) and when not (the equilibrium is **unstable**). Much like we did with the logistic model, we can assess the local stability of steady states of a system by linearising around the equilibrium and finding the eigenvalues by studying the Jacobian matrix. Let us suppose that $dR/dt=f(R,G)$ and $dG/dt=g(R,G)$. Then the Jacobian matrix is made up of the partial derivatives of $f$ and $g$,\n",
    "\n",
    "\\begin{align*}\n",
    "J=&\\left(\n",
    "\\begin{array}{cc}\n",
    "\\frac{\\partial f}{\\partial R} &\\frac{\\partial f}{\\partial G} \\\\\n",
    "\\frac{\\partial g}{\\partial R} & \\frac{\\partial g}{\\partial G}\n",
    "\\end{array}\n",
    "\\right),\n",
    "\\end{align*}\n",
    "\n",
    "taken at the equilibrium values of $R$ and $G$. We can then use this Jacobian to find the eigenvalues at an equilibrium, which will tell us whether that point is stable or unstable. In particular, if,\n",
    "\n",
    "* $\\lambda_1<0$ and $\\lambda_2<0$, the equilibrium is stable;\n",
    "* $\\lambda_1>0$ and $\\lambda_2>0$, the equilibrium is unstable;\n",
    "* $\\lambda_1<0$ and $\\lambda_2>0$, the equilibrium is a saddle.\n",
    "\n",
    "Since we are dealing with a 2x2 matrix, and since we only really care about the signs of the eigenvalues, we can usually determine stability just by finding the **trace** and **determinant** of our matrix:\n",
    "\n",
    "* $tr(J) =  \\frac{\\partial f}{\\partial R} + \\frac{\\partial g}{\\partial G}$,\n",
    "* $det(J) = \\left[\\frac{\\partial f}{\\partial R}\\right].\\left[\\frac{\\partial g}{\\partial G}\\right]-\\left[\\frac{\\partial f}{\\partial G}\\right].\\left[\\frac{\\partial g}{\\partial R}\\right].$\n",
    "\n",
    "These relate to the eigenvalues through as $tr(J)=\\lambda_1+\\lambda_2$ and $det(J)=\\lambda_1\\lambda_2$. The signs of these two quantities combine to tell us about the stability of the equilibrium, which is best seen through the following diagram:\n",
    "\n",
    "````{card}\n",
    "<img src='tracedet.png' height=\"300\" alt=\"diagram of stability condition based on trace and determinant\">\n",
    "\n",
    "*Figure: Stability of an equilibrium using the trace and determinant of the Jacobian.*\n",
    "````\n",
    "\n",
    "```{note}\n",
    "For a 2x2 Jacobian, if one of the off-diagonal entries is zero, the eigenvalues are simply the two entries in the main-diagonal.\n",
    "```\n",
    "\n",
    "Let's write down the generic Jacobian for our system,\n",
    "\n",
    "\\begin{align*}\n",
    "J=&\\left(\n",
    "\\begin{array}{cc}\n",
    "a-2R_*-bG_* & -bR_*  \\\\\n",
    "-dG_* & c-dR_*-2G_*   \n",
    "\\end{array}\n",
    "\\right),\n",
    "\\end{align*}\n",
    "\n",
    "We can use the information from the Jacobians to derive the eigenvalues at each equilibria explicitly. In particular we can use the signs of the trace and determinant to establish the stability of each equilibrium. \n",
    "\n",
    "----\n",
    "\n",
    "**The extinction equilibrium**\n",
    "\n",
    "At $(0,0)$, the Jacobian is just\n",
    "\n",
    "\\begin{align*}\n",
    "J=&\\left(\n",
    "\\begin{array}{cc}\n",
    "a & 0  \\\\\n",
    "0 & c \n",
    "\\end{array}\n",
    "\\right),\n",
    "\\end{align*}\n",
    "\n",
    "which has $T=a+c>0$, $D=ac>0$ and $T^2-4D = (a-c)^2 >0$, where $T$ and $D$ are the trace and determinant of the matrix. Thus $(0,0)$ is always an unstable node.\n",
    "\n",
    "----\n",
    "\n",
    "**The two single-species equilibria**\n",
    "\n",
    "At $(a,0)$, we have\n",
    "\n",
    "\\begin{align*}\n",
    "J=&\\left(\n",
    "\\begin{array}{cc}\n",
    "-a & -ab  \\\\\n",
    "0 & c-ad \n",
    "\\end{array}\n",
    "\\right),\n",
    "\\end{align*}\n",
    "\n",
    "We could calculate the trace and determinant, or we can note that the 0 in the off-diagonal means we can just read off the eigenvalues as $\\lambda_1=-a$ and $\\lambda_2=c-ad$. Therefore, looking back at our phase portraits from last time, in cases (a) and (c), when $c-ad<0$ (look at the horizontal axis), we have a stable node at this point. In cases (b) and (d), when $c-ad>0$, we have a saddle point. These findings are in accord with the direction fields and our previous interpretation of the behaviour of the system. \n",
    "\n",
    "Using a similar argument (or just the symmetry of the equations), we can show that $(0,c)$ is a saddle in cases (a) and (d), and a stable node in cases (b) and (c). \n",
    "\n",
    "----\n",
    "\n",
    "**The coexistence equilibrium**\n",
    "\n",
    "For the final equilibrium, we could try and calculate the equilibrium densities explicitly, but it is no point making unnecessary work for ourselves. Instead, note that it lies at the intersection of the two off-axis nullclines. Substituting the nullcline equations into $\\mathbf{J}$, we get\n",
    "\n",
    "\\begin{align*}\n",
    "J=&\\left(\n",
    "\\begin{array}{cc}\n",
    "-R_* & -bR_*  \\\\\n",
    "-dG_* & -G_*  \n",
    "\\end{array}\n",
    "\\right),\n",
    "\\end{align*}\n",
    "\n",
    "which has $T=-(R_*+G_*)<0$, $D=(1-bd)R_*G_*$ and $T^2-4D=(R_*-G_*)^2+4bdR_*G_*>0$. Everything hinges on the sign of $D=(1-bd)R_*G_*$. \n",
    "\n",
    "In case (c), we have $a-bc>0$ and $c-ad>0$. Putting these together we find we have $a > bad$ and so $1>bd$. Therefore $D>0$ and C is a stable node. \n",
    "\n",
    "In contrast, in case (d) we have $a<bc$ and $c<ad$, meaning $a < bad$ and so $1<bd$. Therefore $D<0$ and C is a saddle point.\n",
    "\n",
    "`````{admonition} Have a go: coding\n",
    ":class: tip\n",
    "**To use the code, click the rocket icon at the top of the page, and then click Colab**. This will take you to a live version of this page where you can run the code. \n",
    "\n",
    "Scroll down to the code cell below and either click in the cell and hit Shift-Enter, or click on the 'Play' icon in the top-left of the cell. *You may see a warning about loading content from Github - click 'Run anyway'.*\n",
    "\n",
    "This code will produce a time-course and phase portrait for the dynamics of two competing species, here assumed to be Red and Grey Squirrels. The dynamics are governed by the following ordinary differential equations:\n",
    "\\begin{align*}\n",
    "\\frac{dR}{dt}&=R(a-R-bG)\\\\\n",
    "\\frac{dG}{dt}&=G(c-dR-G).\n",
    "\\end{align*}\n",
    "\n",
    "After it has run, below the code cell you will see a set of sliders to choose the values of the 4 parameters, and boxes for you to enter two lots of initial conditions for $R$ and $G$. When you have chosen your values you will see two plots appear - a time course for Red and Grey squirrels, and a phase portrait (including nullclines (red/black) and 2 trajectories (blue)). You can then change the parameter values or initial conditions.\n",
    "\n",
    "Note that the sliders/plot in this webpage are static and do not change - you need to load the Colab version for them to work.\n",
    "\n",
    "`````\n",
    " \n"
   ]
  },
  {
   "cell_type": "code",
   "execution_count": 1,
   "id": "b138d406",
   "metadata": {
    "tags": [
     "hide-input"
    ]
   },
   "outputs": [
    {
     "data": {
      "application/vnd.jupyter.widget-view+json": {
       "model_id": "8aa5dbb95a2e4474a2ebc5529ab09311",
       "version_major": 2,
       "version_minor": 0
      },
      "text/plain": [
       "FloatSlider(value=3.0, description='a', max=5.0, min=0.5, step=0.25)"
      ]
     },
     "metadata": {},
     "output_type": "display_data"
    },
    {
     "data": {
      "application/vnd.jupyter.widget-view+json": {
       "model_id": "9a24c7397b664b28b913847421b600eb",
       "version_major": 2,
       "version_minor": 0
      },
      "text/plain": [
       "FloatSlider(value=0.5, description='b', max=5.0, min=0.5, step=0.25)"
      ]
     },
     "metadata": {},
     "output_type": "display_data"
    },
    {
     "data": {
      "application/vnd.jupyter.widget-view+json": {
       "model_id": "2d8704f7d00e42908fbe8e18b374e385",
       "version_major": 2,
       "version_minor": 0
      },
      "text/plain": [
       "FloatSlider(value=3.0, description='c', max=5.0, min=0.5, step=0.25)"
      ]
     },
     "metadata": {},
     "output_type": "display_data"
    },
    {
     "data": {
      "application/vnd.jupyter.widget-view+json": {
       "model_id": "45d76c11f270473b826a04601993f8fb",
       "version_major": 2,
       "version_minor": 0
      },
      "text/plain": [
       "FloatSlider(value=0.75, description='d', max=5.0, min=0.5, step=0.25)"
      ]
     },
     "metadata": {},
     "output_type": "display_data"
    },
    {
     "data": {
      "application/vnd.jupyter.widget-view+json": {
       "model_id": "c74d7695196c4bc590fa8aff7d0fa3e7",
       "version_major": 2,
       "version_minor": 0
      },
      "text/plain": [
       "HBox(children=(BoundedFloatText(value=3.0, description='1st R(0)', max=5.0), BoundedFloatText(value=3.0, descr…"
      ]
     },
     "metadata": {},
     "output_type": "display_data"
    },
    {
     "data": {
      "application/vnd.jupyter.widget-view+json": {
       "model_id": "c09bc615ef9045f6bbde517ec4b53b57",
       "version_major": 2,
       "version_minor": 0
      },
      "text/plain": [
       "HBox(children=(BoundedFloatText(value=1.0, description='2nd R(0)', max=5.0), BoundedFloatText(value=1.0, descr…"
      ]
     },
     "metadata": {},
     "output_type": "display_data"
    },
    {
     "data": {
      "application/vnd.jupyter.widget-view+json": {
       "model_id": "fa74bd6268e145a0bd69c1e479b722d6",
       "version_major": 2,
       "version_minor": 0
      },
      "text/plain": [
       "Output()"
      ]
     },
     "metadata": {},
     "output_type": "display_data"
    }
   ],
   "source": [
    "################\n",
    "# HAVE A GO: CODING\n",
    "################\n",
    "\n",
    "# Import the necessary libraries\n",
    "import numpy as np\n",
    "import matplotlib.pyplot as plt\n",
    "from scipy.integrate import odeint\n",
    "import ipywidgets as widgets\n",
    "from ipywidgets import interactive\n",
    "\n",
    "aw=widgets.FloatSlider(min=0.5, max=5, step=0.25, value=3, description='a')\n",
    "bw=widgets.FloatSlider(min=0.5, max=5, step=0.25, value=0.5, description ='b')\n",
    "cw=widgets.FloatSlider(min=0.5, max=5, step=0.25, value=3,description='c')\n",
    "dw=widgets.FloatSlider(min=0.5, max=5, step=0.25, value=0.75,description='d')\n",
    "\n",
    "R0_1w=widgets.BoundedFloatText(value=3,min=0,max=5,description='1st R(0)')\n",
    "G0_1w=widgets.BoundedFloatText(value=3,min=0,max=5,description='1st G(0)')\n",
    "R0_2w=widgets.BoundedFloatText(value=1,min=0,max=5,description='2nd R(0)')\n",
    "G0_2w=widgets.BoundedFloatText(value=1,min=0,max=5,description='2nd G(0)')\n",
    "\n",
    "u1 = widgets.HBox([R0_1w, G0_1w])\n",
    "u2 = widgets.HBox([R0_2w, G0_2w])\n",
    "\n",
    "#Lotka-Volterra dynamics\n",
    "def competition(N,t,a,b,c,d):\n",
    "    R=N[0]\n",
    "    G=N[1]\n",
    "    dR = R*(a - R - b*G)\n",
    "    dG = G*(c - G - d*R)\n",
    "    return [dR,dG]\n",
    "\n",
    "def runsquirrels(a,b,c,d,R0_1,G0_1,R0_2,G0_2):\n",
    "\n",
    "    N0=[R0_1,G0_1]\n",
    "    N1=[R0_2,G0_2]\n",
    "\n",
    "    tc = np.linspace(0, 10, 1000)  \n",
    "    Nc = odeint(competition, N0, tc,args=(a,b,c,d))\n",
    "    Nd = odeint(competition, N1, tc,args=(a,b,c,d))\n",
    "    \n",
    "    plt.rcParams['figure.figsize'] = [12, 4]#\n",
    "    plt.rcParams.update({'font.size': 16})\n",
    "    fig, (ax1, ax2) = plt.subplots(1, 2)\n",
    "    \n",
    "    ax1.plot(tc, Nc[:,0], \"r\", label=\"Reds\") \n",
    "    ax1.plot(tc, Nc[:,1], \"k\", label=\"Greys\")\n",
    "    ax1.plot(tc, Nd[:,0], \"r:\")\n",
    "    ax1.plot(tc, Nd[:,1], \"k:\")\n",
    "    ax1.set(xlabel='Time', ylabel='Densities')\n",
    "    ax1.legend()\n",
    "    ax1.axis([0,10,0,5])\n",
    "\n",
    "    rr=np.linspace(0,10,5)\n",
    "    rnull=(a-rr)/b\n",
    "    gnull=c-d*rr\n",
    "    ax2.plot(Nc[:,0],Nc[:,1],'b')\n",
    "    ax2.plot(Nd[:,0],Nd[:,1],'b')\n",
    "    ax2.plot(rr,rnull,'r')\n",
    "    ax2.plot(rr,gnull,'k')\n",
    "    ax2.axis([0, 5, 0, 5])\n",
    "    ax2.set(xlabel='Red Squirrels', ylabel='Grey Squirrels')\n",
    "    plt.show()\n",
    "    return()\n",
    "\n",
    "out = widgets.interactive_output(runsquirrels, {'a': aw, 'b': bw, 'c': cw, 'd': dw, 'R0_1': R0_1w, 'G0_1': G0_1w, 'R0_2': R0_2w, 'G0_2': G0_2w})   \n",
    "display(aw,bw,cw,dw)\n",
    "display(u1,u2,out)\n",
    "\n"
   ]
  },
  {
   "cell_type": "markdown",
   "id": "1dddb6f1",
   "metadata": {},
   "source": [
    "## A bifurcation diagram\n",
    "\n",
    "````{card}\n",
    "<img src='transcritical2.png' height=\"300\" alt=\"Bifurcation diagram of the competition model\">\n",
    "\n",
    "*Transcritical bifurcations in the competition model. Parameter values: $b=0.5$, $c=5$, $d=0.75$.*\n",
    "````\n",
    "\n",
    "We can also plot a bifurcation diagram of the system. This is slightly complicated since we now have two variables and multiple parameters, but we can just focus on how one parameter impacts one variable. Here we see three different transcritical bifurcations at different points as we vary the red squirrel carrying capacity, $a$.\n",
    "\n",
    "* When $a$ is low, the Grey-only equilibrium (grey line with $R=0$) is stable, the Red-only equilibrium (red line) is unstable and the coexistence equilibrium (blue) is negative (and unstable).\n",
    "* When $a$ is intermediate, the coexistence equilibrium becomes positive and stable and the Grey-only equilibrium becomes unstable through a transcritical bifurcation. The Red-only equilibrium remains unstable.\n",
    "* When $a$ is high, the coexistence equilibrium becomes unstable (and actually negative in $G$, though this plot does not show that) and the Red-only equilibrium becomes stable through a transcritical bifurcation. The Grey-only equilibrium remains unstable.\n",
    "\n",
    "(There is a third transcritical bifurcation at 0 where the Red-only and Grey-only equilibria collide, but this makes no real difference to the dynamics since we assume $a>0$).\n",
    "\n",
    "Note what we have achieved here: we have mapped out all possible behaviours of the system without having to specify exactly what the values of the parameters are, and without having to calculate the location of the equilibrium point. \n",
    "\n",
    "## 3 key points\n",
    "\n",
    "* Linear stability analysis allows us to classify the behaviour of a system near an equilibrium.\n",
    "* Competing species *can* coexist with each other in the long term, provided the effects of interspecific competition are quite weak (in fact, if we assume equal carrying capacities, $a=c$, we require both $b<1$ and $d<1$).\n",
    "* Very often there will be **competitive exclusion**, where only one species can survive in the long term, whenever the effects of inter-specific competition is quite strong. \n"
   ]
  },
  {
   "cell_type": "code",
   "execution_count": null,
   "id": "2a62a625",
   "metadata": {},
   "outputs": [],
   "source": []
  }
 ],
 "metadata": {
  "celltoolbar": "Edit Metadata",
  "kernelspec": {
   "display_name": "Python 3 (ipykernel)",
   "language": "python",
   "name": "python3"
  },
  "language_info": {
   "codemirror_mode": {
    "name": "ipython",
    "version": 3
   },
   "file_extension": ".py",
   "mimetype": "text/x-python",
   "name": "python",
   "nbconvert_exporter": "python",
   "pygments_lexer": "ipython3",
   "version": "3.11.4"
  }
 },
 "nbformat": 4,
 "nbformat_minor": 5
}
