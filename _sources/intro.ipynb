{
 "cells": [
  {
   "cell_type": "markdown",
   "id": "bffd1008",
   "metadata": {},
   "source": [
    "# Topics in Mathematical Biology\n",
    "\n",
    "## MAS31003 / MAS61024\n",
    "\n",
    "*All models are wrong, but some are in this module*\n",
    "\n",
    "Dr. Alex Best - Hicks G27b - <a.best@shef.ac.uk> "
   ]
  },
  {
   "cell_type": "markdown",
   "id": "28c54127",
   "metadata": {},
   "source": [
    "# Introduction to the module\n",
    "\n",
    "Welcome to the webpages and learning materials for Topics in Mathematical Biology.\n",
    "\n",
    "`````{note} \n",
    "There are two versions of this module running side-by-side. \n",
    "* MAS31003 (Topics in Mathematical Biology) is the version of the course for 3rd year students. \n",
    "* MAS61024 (Further Topics in Mathematical Biology) is the version of the course for 4th year students. \n",
    "\n",
    "The main lecture material is the same for all students, but 4th years have to complete some additional work. Please [click here](/level4.html) for more details.\n",
    "`````\n",
    "\n",
    "Below are some key details about the module:\n",
    "\n",
    "* We have two in-person lectures a week: \n",
    "    * Mondays 9am - Hicks LT5\n",
    "    * Thursdays 2pm - Hicks LT6\n",
    "* For two of the lectures we will instead have a computer lab - Mondays of week 5 and week 10 in Alfred Denny Building A04.\n",
    "* Pre-recorded videos will also be made available should you not be able to attend a lecture, and/or for revision.\n",
    "* Assessment for 3rd year students is 80% exam and 20% project. \n",
    "* Assessment for 4th year students is 50% exam, 10% project, and 40% independent study report. Please [click here](/level4.html) for more details.\n",
    "* The project component takes place in week 6, with a due date of Monday week 8.\n",
    "* I will run two student drop-in hours each week:\n",
    "    * In my office (G27b) Mondays 10am, either online or in-person. Best for working through questions and problems from the material and homeworks. You are strongly encouraged to book slots using my [Google Calendar appointments page](https://calendar.google.com/calendar/u/0/selfsched?sstoken=UVA1NV9VbkZzaWFqfGRlZmF1bHR8ZjM4N2Y1MmYyYjcxMmUzMjgzMjQ2NDcyNjc3MTRkYzM).\n",
    "    * In the Jessop West cafe Thursdays 11.30am. Best for more informal questions and general chats about mathematical biology, science and life.\n",
    "* Notes are provided as HTML and PDF. \n",
    "* You are encouraged to engage in **active learning**. At points in the notes you will see,\n",
    "\n",
    "`````{admonition} Have a go\n",
    ":class: tip\n",
    "At these points you will be asked to complete some workings in the lecture and/or explore a model with provided interactive python code (you will need to be logged into your GMail account to use this). \n",
    "`````\n",
    "* I hope for there to be a welcoming and inclusive environment in our lectures. If you feel you are not fully welcomed in the classes for any reason, please think about coming for a chat during an office hour.\n",
    "\n",
    "\n",
    "## What is the course about?\n",
    "\n",
    "Put simply, mathematical biology means appplying tools from mathematics and statistics to questions in biology. The intersection of two very large areas of science obviously results in a pretty big field of research. In this module we will cover topics from a range of areas of biology. However, we will primarily focus on one set of mathematical tools: ordinary differential equations. We will *construct* models of biological systems, *apply* mathematical techniques you have met in earlier modules to gain mathematical results, and then try to *interpret* what these results mean in terms of the underlying biology. The famous saying goes, \"*All models are wrong, but some are useful*\" (with a slightly tweaked version providing the subtitle of the module, with thanks to Acaccia Ackles on Twitter for the inspiration). We should recognise the the models we construct always represent one particular view of a problem, and that developing models from other, diverse perspectives may lead us to greater understanding about the problem.\n",
    "\n",
    "`````{note} \n",
    ":class: tip\n",
    "This is technically a new module, rising from the ashes of MAS377. There are a number of small tweaks to the module this year so please ensure you are always reading up-to-date information. If in any doubt, please use the discussion board on Blackboard or see me at a student drop-in hour.\n",
    "`````\n",
    "\n",
    "## Additional reading\n",
    "\n",
    "Last year I turned a highly similar set of these lecture notes into a free online textbook. It goes into slightly more depth in a few areas, but can largely be used interchangeably with these notes. [You can access the textbook by clicking here](https://sheffield.pressbooks.pub/introducingmathematicalbiology).\n",
    "\n",
    "You may also find it useful to have a companion textbook or lecture notes for non-linear ordinary differential equations. Your lectures notes for semester 1 of the *Differential Equations* module would be suitable. Otherwise I recommend the textbook *Nonlinear Dynamics and Chaos* by Strogatz."
   ]
  },
  {
   "cell_type": "code",
   "execution_count": null,
   "id": "e032a6fa",
   "metadata": {},
   "outputs": [],
   "source": []
  }
 ],
 "metadata": {
  "kernelspec": {
   "display_name": "Python 3 (ipykernel)",
   "language": "python",
   "name": "python3"
  },
  "language_info": {
   "codemirror_mode": {
    "name": "ipython",
    "version": 3
   },
   "file_extension": ".py",
   "mimetype": "text/x-python",
   "name": "python",
   "nbconvert_exporter": "python",
   "pygments_lexer": "ipython3",
   "version": "3.11.4"
  }
 },
 "nbformat": 4,
 "nbformat_minor": 5
}
