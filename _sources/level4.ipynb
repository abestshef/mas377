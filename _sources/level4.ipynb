{
 "cells": [
  {
   "cell_type": "markdown",
   "id": "7d298c58",
   "metadata": {},
   "source": [
    "# 4th year information\n",
    "\n",
    "This webpage summarises some important details for students in their 4th year taking MAS61024 *Further Topics in Mathematical Biology*.\n",
    "\n",
    "The MAS61024 version of the module is worth 15 credits - 5 more than the 3rd year version, therefore requiring additional work (roughly 50 hours extra). Importantly, 4th year students will undertake all of the same learning activities and assessments as the 3rd year students. This means students should:\n",
    "\n",
    "* Attend all scheduled lectures and computer labs.\n",
    "* Undertake the project in weeks 6 and 7.\n",
    "* Take the 2 hour exam in the January exam period.\n",
    "\n",
    "For both the project and exam, you will have the same questions and markschemes as the 3rd year students. The weighting of these assessments is different, however:\n",
    "\n",
    "* The project is worth 10% of your final module mark.\n",
    "* The exam is worth 50% of your final module mark."
   ]
  },
  {
   "cell_type": "markdown",
   "id": "9e6e3aa8",
   "metadata": {},
   "source": [
    "In addition to these activities and assessments, you will also undertake independent study to produce a project report. A list of possible projects are provided below. The final report should be 4 pages long and the project as a whole should account for around 50 hours of work. The deadline for the report is 4pm Monday 11th December (week 12) and is worth the remaining 40% of your final module mark.\n",
    "\n",
    "You will be supervised by a member of SoMaS staff with an interest in the research area, and you may be working on the same general topic as other students, but you will undertake the majority of the work independently. \n",
    "\n",
    "You will meet with your supervisor 3 times during the semester, for 30-45 minutes each time. We suggest the following agenda for the meetings:\n",
    "\n",
    "**Meeting 1 (week 2 or 3):** Supervisor provides a detailed overview of the project area, and a specific title/theme is agreed. The supervisor will provide details of key reading or activities they would expect the student to undertake. The student can ask any questions they may have.\n",
    "\n",
    "**Meeting 2 (week 5 or 6):** The student will send the supervisor a 1-page summary of their work so far at least 1 week before the meeting. In the meeting the supervisor and student will discuss the summary as well as any further questions from the student. The supervisor will advise on next steps.\n",
    "\n",
    "**Meeting 3 (week 9 or 10):** The student will send the supervisor a draft copy of their project report at least 1 week before the meeting.  In the meeting the supervisor and student will discuss the summary as well as any further questions from the student. The supervisor will advise on any final changes they recommend.\n",
    "\n",
    "**Additional contact:** The student should feel able to contact the supervisor if they have any questions or problems which they feel are preventing them progressing. However, for fairness to all students, supervisors will only provide general advice/directions.\n",
    "\n",
    "## Attendance at Mathematical Biology Seminar Series\n",
    "\n",
    "4th year students are strongly encouraged to attend the Mathematical Biology Seminar Series, which take place Mondays at 1pm in Hicks J11. *This is not a requirement for the module and you will not be negatively affected by not attending*. However, these seminars - given by a mix of external speakers and SoMaS staff - will give you the chance to deepen and broaden your knowledge of mathematical biology research, potentially giving you more context to much of your work.\n",
    "\n",
    "## Project Choices\n",
    "\n",
    "You should read the project descriptions below, and then submit your ranked top 3 choices by email to a.best@shef.ac.uk by Monday of week 2. You are guaranteed to be allocated one of your top 3, but to share workload evenly we cannot guarantee anybody's top choice. You will be notified of your allocation by Thursday of week 2.\n",
    "\n",
    "----\n",
    "\n",
    "### The role of infectious disease in the decline of Red squirrels in the UK (Alex Best)\n",
    "It is widely known that the native Red squirrel has seen massive declines in many parts of the UK over the last century. This is largely believed to be due to being outcompeted by the invasive Grey squirrel. However, evidence also shows that this decline may additionally be driven by an infectious disease. The squirrelpox virus is fatal to Red squirrels but Grey squirrels appear to be immune to it. In this project you will combine models of competition and infectious disease to explore these dynamics. You will primarily use ordinary differential equation models, but may also look to develop computational simulations. You will ask questions around how much more quickly Red squirrels will be driven extinct in the presence of disease, and whether any interventions could be used to help preserve the species.\n",
    "\n",
    "----\n",
    "\n",
    "### Disease dynamics with free-living parasites (Alex Best)\n",
    "Classic models for infectious disease spread assume that infection is spread through direct contact between infected and susceptible hosts. In many cases, however, parasites can be ‘free-living’, meaning they survive outside of hosts for some time before being picked up at a later point by susceptible hosts. This assumption requires a different model set-up, and can lead to rather different long-term dynamics, in particular sustained cycles. In this project you will develop models where there are free-living parasites and explore the possible dynamics that can occur. You will use a combination of analysis of ordinary differential equations and numerical simulations.\n",
    "\n",
    "----\n",
    " \n",
    "### Segregation patterns in animal space use from resource sharing (Jonathan Potts)\n",
    "Territorial behaviour is a well-known phenomenon, usually taking place via aggressive encounters or scent marking terrain.  These cause animal groups to segregate their space use from one another to avoid costly confrontations.  However, it has also been conjectured that spatial segregation can emerge from a combination of resource sharing and fidelity to recently-visited locations.  This project will use pattern formation analysis of partial differential equations to understand the conditions under which such foraging processes can cause spatial segregation.  The main tools will be linear stability analysis of PDEs - a generalisation of the ODE case you have studied since Level 2 (and a technique you will have seen if you did MAS316 last year) - and numerical analysis of PDEs, but others can be investigated if you are keen and progress is good.\n",
    "\n",
    "----\n",
    "\n",
    "### Pattern formation in spatial models of ecosystems (Jonathan Potts)\n",
    "This project will involve investigating how systems of interacting populations of animals arrange themselves in space as a result of how they move in relation to one another.  Recent studies show that there is a rich range of possible patterns even when two populations are considered, and with three populations systems can even become chaotic.  The main tools will be linear stability analysis of PDEs - a generalisation of the ODE case you have studied since Level 2 (and a technique you will have seen if you did MAS316 last year) - and numerical analysis of PDEs.  If you are keen and progress is good, they can also examine how such PDEs can be derived from an individual-based description of animal movement, and therefore use PDE analysis to gain insight into IBMs. \n"
   ]
  },
  {
   "cell_type": "code",
   "execution_count": null,
   "id": "b04e8f21",
   "metadata": {},
   "outputs": [],
   "source": []
  }
 ],
 "metadata": {
  "kernelspec": {
   "display_name": "Python 3 (ipykernel)",
   "language": "python",
   "name": "python3"
  },
  "language_info": {
   "codemirror_mode": {
    "name": "ipython",
    "version": 3
   },
   "file_extension": ".py",
   "mimetype": "text/x-python",
   "name": "python",
   "nbconvert_exporter": "python",
   "pygments_lexer": "ipython3",
   "version": "3.11.4"
  }
 },
 "nbformat": 4,
 "nbformat_minor": 5
}
